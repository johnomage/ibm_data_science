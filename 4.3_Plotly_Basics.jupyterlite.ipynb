{
  "cells": [
    {
      "cell_type": "markdown",
      "metadata": {},
      "source": [
        "<center>\n",
        "    <img src=\"https://cf-courses-data.s3.us.cloud-object-storage.appdomain.cloud/IBMDeveloperSkillsNetwork-DV0101EN-SkillsNetwork/labs/Module%204/logo.png\" width=\"300\" alt=\"cognitiveclass.ai logo\">\n",
        "</center>\n"
      ]
    },
    {
      "cell_type": "markdown",
      "metadata": {},
      "source": [
        "# Basic Plotly Charts\n",
        "\n",
        "Estimated time needed: 45 minutes\n"
      ]
    },
    {
      "cell_type": "markdown",
      "metadata": {},
      "source": [
        "# Objectives\n",
        "\n",
        "\n",
        "After completing this lab, you will be able to:\n",
        "\n",
        "*   Use plotly graph objects and plotly express libraries to plot different types of charts\n",
        "*   Create interesting visualizations on Airline Reporting Carrier On-Time Performance Dataset \n"
      ]
    },
    {
      "cell_type": "markdown",
      "metadata": {},
      "source": [
        "# Plotly graph objects and Plotly express libraries to plot different types of charts \n",
        "\n",
        "## Plotly Libraries\n",
        "\n",
        "**plotly.graph_objects:** \n",
        "This is a low level interface to figures, traces and layout. The Plotly graph objects module provides an automatically generated hierarchy of classes ( figures, traces, and layout) called graph objects. These graph objects represent figures with a top-level class plotly.graph_objects.Figure.\n",
        "\n",
        "**plotly.express:** \n",
        "Plotly express is a high-level wrapper for Plotly. It is a recommended starting point for creating the most common figures provided by Plotly using a simpler syntax. It uses graph objects internally.\n",
        "Now let us use these libraries to plot some charts\n",
        "We will start with plotly_graph_objects to plot line and scatter plots\n",
        "> Note: You can hover the mouse over the charts whenever you want to view any statistics in the visualization charts \n",
        "\n",
        "\n",
        "\n",
        "\n",
        "## Exercise I: Get Started with Different Chart types in Plotly\n"
      ]
    },
    {
      "cell_type": "code",
      "execution_count": null,
      "metadata": {
        "trusted": true
      },
      "outputs": [],
      "source": [
        "import piplite\n",
        "\n",
        "await piplite.install(['nbformat', 'plotly'])"
      ]
    },
    {
      "cell_type": "code",
      "execution_count": null,
      "metadata": {
        "trusted": true
      },
      "outputs": [],
      "source": [
        "# Import required libraries\n",
        "import pandas as pd\n",
        "import numpy as np\n",
        "import plotly.express as px\n",
        "import plotly.graph_objects as go"
      ]
    },
    {
      "cell_type": "markdown",
      "metadata": {},
      "source": [
        "## 1. Scatter Plot: \n",
        "A scatter plot shows the relationship between 2 variables on the x and y-axis. The data points here appear scattered when plotted on a two-dimensional plane. Using scatter plots, we can create exciting visualizations to express various relationships, such as:\n",
        "\n",
        "* Height vs weight of persons\n",
        "* Engine size vs automobile price\n",
        "* Exercise time vs Body Fat\n"
      ]
    },
    {
      "cell_type": "code",
      "execution_count": null,
      "metadata": {
        "trusted": true
      },
      "outputs": [],
      "source": [
        "##Example 1: Let us illustrate the income vs age of people in a scatter plot\n",
        "\n",
        "age_array=np.random.randint(25,55,60)\n",
        "# Define an array containing salesamount values \n",
        "income_array=np.random.randint(300000,700000,3000000)"
      ]
    },
    {
      "cell_type": "code",
      "execution_count": null,
      "metadata": {
        "trusted": true
      },
      "outputs": [],
      "source": [
        "##First we will create an empty figure using go.Figure()\n",
        "fig=go.Figure()\n",
        "fig"
      ]
    },
    {
      "cell_type": "code",
      "execution_count": null,
      "metadata": {
        "trusted": true
      },
      "outputs": [],
      "source": [
        "#Next we will create a scatter plot by using the add_trace function and use the go.scatter() function within it\n",
        "# In go.Scatter we define the x-axis data,y-axis data and define the mode as markers with color of the marker as blue\n",
        "fig.add_trace(go.Scatter(x=age_array, y=income_array, mode='markers', marker=dict(color='blue')))"
      ]
    },
    {
      "cell_type": "markdown",
      "metadata": {},
      "source": [
        "**However in the previous output title, x-axis and y-axis labels are missing. Let us use the update_layout function to update the title and labels.**\n"
      ]
    },
    {
      "cell_type": "code",
      "execution_count": null,
      "metadata": {
        "trusted": true
      },
      "outputs": [],
      "source": [
        "## Here we update these values under function attributes such as title,xaxis_title and yaxis_title\n",
        "fig.update_layout(title='Economic Survey', xaxis_title='Age', yaxis_title='Income')\n",
        "# Display the figure\n",
        "fig.show()"
      ]
    },
    {
      "cell_type": "markdown",
      "metadata": {},
      "source": [
        "#### Inferences:\n",
        "     \n",
        "From the above plot we find that the Income of a person is not correlated with age. We find that as the age increases the income may or not decrease.\n"
      ]
    },
    {
      "cell_type": "markdown",
      "metadata": {},
      "source": [
        "## 2. Line Plot: \n",
        "A line plot shows information that changes continuously with time. Here the data points are connected by straight lines. Line plots are also plotted on a two dimensional plane like scatter plots. Using line plots, we can create exciting visualizations to illustrate:\n",
        "\n",
        "  * Annual revenue growth\n",
        "  * Stock Market analysis over time\n",
        "  * Product Sales over time\n"
      ]
    },
    {
      "cell_type": "code",
      "execution_count": null,
      "metadata": {
        "trusted": true
      },
      "outputs": [],
      "source": [
        "##Example 2: Let us illustrate the sales of bicycles from Jan to August last year using a line chart\n",
        "# Define an array containing numberofbicyclessold  \n",
        "numberofbicyclessold_array=[50,100,40,150,160,70,60,45]\n",
        "# Define an array containing months\n",
        "months_array=[\"Jan\",\"Feb\",\"Mar\",\"April\",\"May\",\"June\",\"July\",\"August\"]\n"
      ]
    },
    {
      "cell_type": "code",
      "execution_count": null,
      "metadata": {
        "trusted": true
      },
      "outputs": [],
      "source": [
        "##First we will create an empty figure using go.Figure()\n",
        "fig=go.Figure()"
      ]
    },
    {
      "cell_type": "code",
      "execution_count": null,
      "metadata": {
        "trusted": true
      },
      "outputs": [],
      "source": [
        "#Next we will create a line plot by using the add_trace function and use the go.scatter() function within it\n",
        "# In go.Scatter we define the x-axis data,y-axis data and define the mode as lines with color of the marker as green\n",
        "fig.add_trace(go.Scatter(x=months_array, y=numberofbicyclessold_array, mode='lines', marker=dict(color='green')))"
      ]
    },
    {
      "cell_type": "code",
      "execution_count": null,
      "metadata": {
        "trusted": true
      },
      "outputs": [],
      "source": [
        "## Here we update these values under function attributes such as title,xaxis_title and yaxis_title\n",
        "fig.update_layout(title='Bicycle Sales', xaxis_title='Months', yaxis_title='Number of Bicycles Sold')\n",
        "# Display the figure\n",
        "fig.show()"
      ]
    },
    {
      "cell_type": "markdown",
      "metadata": {},
      "source": [
        "#### Inferences:\n",
        "     \n",
        "From the above plot we find that the sales is the highest in the month of May and then there is a decline in sales.\n"
      ]
    },
    {
      "cell_type": "markdown",
      "metadata": {},
      "source": [
        "We will now use plotly express library to plot the other graphs\n"
      ]
    },
    {
      "cell_type": "markdown",
      "metadata": {},
      "source": [
        "  \n",
        "## 3.Bar Plot: \n",
        "A bar plot represents categorical data in rectangular bars. Each category is defined on one axis, and the value counts for this category are represented on another axis. Bar charts are generally used to compare values.We can use bar plots in visualizing:\n",
        "\n",
        " * Pizza delivery time in peak and non peak hours\n",
        " * Population comparison by gender\n",
        " * Number of views by movie name\n"
      ]
    },
    {
      "cell_type": "code",
      "execution_count": null,
      "metadata": {
        "trusted": true
      },
      "outputs": [],
      "source": [
        "##Example 3: Let us illustrate the average pass percentage of classes from grade 6 to grade 10\n",
        "\n",
        "# Define an array containing scores of students \n",
        "score_array=[80,90,56,88,95]\n",
        "# Define an array containing Grade names  \n",
        "grade_array=['Grade 6','Grade 7','Grade 8','Grade 9','Grade 10']"
      ]
    },
    {
      "cell_type": "markdown",
      "metadata": {},
      "source": [
        "**In plotly express we set the axis values and the title within the same function call `px.<graphtype>(x=<xaxis value source>,y=<y-axis value source>,title=<appropriate title as a string>)`.In the below code we use `px.bar( x=grade_array, y=score_array, title='Pass Percentage of Classes')`.**\n"
      ]
    },
    {
      "cell_type": "code",
      "execution_count": null,
      "metadata": {
        "trusted": true
      },
      "outputs": [],
      "source": [
        "# Use plotly express bar chart function px.bar.Provide input data, x and y axis variable, and title of the chart.\n",
        "# This will give average pass percentage per class\n",
        "fig = px.bar( x=grade_array, y=score_array, title='Pass Percentage of Classes') \n",
        "fig.show()"
      ]
    },
    {
      "cell_type": "markdown",
      "metadata": {},
      "source": [
        "#### Inferences:\n",
        "     \n",
        "From the above plot we find that Grade 8 has the lowest pass percentage and Grade 10 has the highest pass percentage \n"
      ]
    },
    {
      "cell_type": "markdown",
      "metadata": {},
      "source": [
        "\n",
        "## 4.Histogram: \n",
        " A histogram is used to represent continuous data in the form of bar. Each bar has discrete values in bar graphs, whereas in histograms, we have bars representing a range of values. Histograms show frequency distributions. We can use histograms to visualize:\n",
        " \n",
        " * Students marks distribution\n",
        " * Frequency of waiting time of customers in a Bank\n"
      ]
    },
    {
      "cell_type": "code",
      "execution_count": null,
      "metadata": {
        "trusted": true
      },
      "outputs": [],
      "source": [
        "##Example 4: Let us illustrate the distribution of heights of 200 people using a histogram\n",
        "\n",
        "import numpy as np\n",
        "#Here we will concentrate on heights which are 160 and the standard deviation is 11\n",
        "heights_array = np.random.normal(160, 11, 200)\n",
        "## Use plotly express histogram chart function px.histogram.Provide input data x to the histogram\n",
        "fig = px.histogram(x=heights_array,title=\"Distribution of Heights\")\n",
        "fig.show()"
      ]
    },
    {
      "cell_type": "markdown",
      "metadata": {},
      "source": [
        "#### Inferences\n",
        "From this we can analyze that there are around \n",
        "2 people who are at the height of 130cm and 45 people at the height of 160 cm\n"
      ]
    },
    {
      "cell_type": "markdown",
      "metadata": {},
      "source": [
        "## 5. Bubble Plot: \n",
        "A bubble plot is used to show the relationship between 3 or more variables. It is an extension of a scatter plot. Bubble plots are ideal for visualizing:\n",
        "\n",
        "  * Global Economic position of Industries\n",
        "  * Impact of viruses on Diseases\n"
      ]
    },
    {
      "cell_type": "code",
      "execution_count": null,
      "metadata": {
        "trusted": true
      },
      "outputs": [],
      "source": [
        "##Example 4: Let us illustrate crime statistics of US cities with a bubble chart\n",
        "\n",
        "#Create a dictionary having city,numberofcrimes and year as 3 keys\n",
        "crime_details = {\n",
        "    'City' : ['Chicago', 'Chicago', 'Austin', 'Austin','Seattle','Seattle'],\n",
        "    'Numberofcrimes' : [1000, 1200, 400, 700,350,1500],\n",
        "    'Year' : ['2007', '2008', '2007', '2008','2007','2008'],\n",
        "}\n",
        "  \n",
        "# create a Dataframe object with the dictionary\n",
        "df = pd.DataFrame(crime_details)\n",
        "  \n",
        "df"
      ]
    },
    {
      "cell_type": "code",
      "execution_count": null,
      "metadata": {
        "trusted": true
      },
      "outputs": [],
      "source": [
        "## Group the number of crimes by city and find the total number of crimes per city\n",
        "bub_data = df.groupby('City')['Numberofcrimes'].sum().reset_index()"
      ]
    },
    {
      "cell_type": "code",
      "execution_count": null,
      "metadata": {
        "trusted": true
      },
      "outputs": [],
      "source": [
        "##Display the grouped dataframe\n",
        "bub_data"
      ]
    },
    {
      "cell_type": "code",
      "execution_count": null,
      "metadata": {
        "trusted": true
      },
      "outputs": [],
      "source": [
        "## Bubble chart using px.scatter function with x ,y and size varibles defined.Title defined as Crime Statistics\n",
        "fig = px.scatter(bub_data, x=\"City\", y=\"Numberofcrimes\", size=\"Numberofcrimes\",\n",
        "                 hover_name=\"City\", title='Crime Statistics', size_max=60)\n",
        "fig.show()"
      ]
    },
    {
      "cell_type": "markdown",
      "metadata": {},
      "source": [
        "#### Inferences\n",
        "The size of the bubble in the bubble chart indicates that Chicago has the highest crime rate when compared with the other 2 cities.\n"
      ]
    },
    {
      "cell_type": "markdown",
      "metadata": {},
      "source": [
        " ## 6.Pie Plot: \n",
        " A pie plot is a circle chart mainly used to represent proportion of part of given data with respect to the whole data. Each slice represents a proportion and on total of the proportion becomes a whole. We can use bar plots in visualizing:\n",
        " \n",
        " * Sales turnover percentatge with respect to different products\n",
        " * Monthly expenditure of a Family\n"
      ]
    },
    {
      "cell_type": "code",
      "execution_count": null,
      "metadata": {
        "trusted": true
      },
      "outputs": [],
      "source": [
        "## Monthly expenditure of a family\n",
        "# Random Data\n",
        "exp_percent= [20, 50, 10,8,12]\n",
        "house_holdcategories = ['Grocery', 'Rent', 'School Fees','Transport','Savings']"
      ]
    },
    {
      "cell_type": "code",
      "execution_count": null,
      "metadata": {
        "trusted": true
      },
      "outputs": [],
      "source": [
        "# Use px.pie function to create the chart. Input dataset. \n",
        "# Values parameter will set values associated to the sector. 'exp_percent' feature is passed to it.\n",
        "# labels for the sector are passed to the `house hold categoris` parameter.\n",
        "fig = px.pie(values=exp_percent, names=house_holdcategories, title='Household Expenditure')\n",
        "fig.show()"
      ]
    },
    {
      "cell_type": "markdown",
      "metadata": {},
      "source": [
        "#### Inferences\n",
        "From this pie chart we can find that the family expenditure is maximum for rent.\n"
      ]
    },
    {
      "cell_type": "markdown",
      "metadata": {},
      "source": [
        "## 7.Sunburst Charts: \n",
        "Sunburst charts represent hierarchial data in the form of concentric circles. Here the innermost circle is the root node which defines the parent, and then the outer rings move down the hierarchy from the centre. They are also called radial charts.We can use them to plot\n",
        "\n",
        "* Worldwide mobile Sales where we can drill down as follows:   \n",
        "    * innermost circle represents total sales  \n",
        "    * first outer circle represents continentwise sales\n",
        "    * second outer circle represents countrywise sales within each continent\n",
        "    \n",
        "    \n",
        "* Disease outbreak hierarchy\n",
        "\n",
        "\n",
        "* Real Estate Industrial chain\n"
      ]
    },
    {
      "cell_type": "code",
      "execution_count": null,
      "metadata": {
        "trusted": true
      },
      "outputs": [],
      "source": [
        "##Example 4: Let us illustrate plot the \n",
        "\n",
        "#Create a dictionary having a set of people represented by a character array and the parents of these characters represented in another\n",
        "## array and the values are the values associated to the vectors.\n",
        "data = dict(\n",
        "    character=[\"Eve\", \"Cain\", \"Seth\", \"Enos\", \"Noam\", \"Abel\", \"Awan\", \"Enoch\", \"Azura\"],\n",
        "    parent=[\"\", \"Eve\", \"Eve\", \"Seth\", \"Seth\", \"Eve\", \"Eve\", \"Awan\", \"Eve\" ],\n",
        "    value=[10, 14, 12, 10, 2, 6, 6, 4, 4])\n",
        "\n",
        "fig = px.sunburst(\n",
        "    data,\n",
        "    names='character',\n",
        "    parents='parent',\n",
        "    values='value',\n",
        "    title=\"Family chart\"\n",
        ")\n",
        "fig.show()"
      ]
    },
    {
      "cell_type": "markdown",
      "metadata": {},
      "source": [
        "#### Inferences\n",
        "\n",
        "It is found that here the innermost circle **Eve** represents the parent and the second outer circle represents his childrent **Cain**,**Seth** and so on.Further the outermost circle represents his grandchildren **Enoch** and **Enos**\n"
      ]
    },
    {
      "cell_type": "markdown",
      "metadata": {},
      "source": [
        "## II- Practice Exercises: Apply your Plotly Skills to an Airline Dataset\n",
        "\n",
        "The Reporting Carrier On-Time Performance Dataset contains information on approximately 200 million domestic US flights reported to the United States Bureau of Transportation Statistics. The dataset contains basic information about each flight (such as date, time, departure airport, arrival airport) and, if applicable, the amount of time the flight was delayed and information about the reason for the delay. This dataset can be used to predict the likelihood of a flight arriving on time.\n",
        "\n",
        "Preview data, dataset metadata, and data glossary [here.](https://dax-cdn.cdn.appdomain.cloud/dax-airline/1.0.1/data-preview/index.html)\n"
      ]
    },
    {
      "cell_type": "markdown",
      "metadata": {},
      "source": [
        "# Read Data\n"
      ]
    },
    {
      "cell_type": "code",
      "execution_count": null,
      "metadata": {
        "trusted": true
      },
      "outputs": [],
      "source": [
        "# Read the airline data into pandas dataframe\n",
        "from js import fetch\n",
        "import io\n",
        "\n",
        "URL = 'https://cf-courses-data.s3.us.cloud-object-storage.appdomain.cloud/IBMDeveloperSkillsNetwork-DV0101EN-SkillsNetwork/Data%20Files/airline_data.csv'\n",
        "resp = await fetch(URL)\n",
        "text = io.BytesIO((await resp.arrayBuffer()).to_py())\n",
        "\n",
        "airline_data =  pd.read_csv(text,\n",
        "                            encoding = \"ISO-8859-1\",\n",
        "                            dtype={'Div1Airport': str, 'Div1TailNum': str, \n",
        "                                   'Div2Airport': str, 'Div2TailNum': str})\n",
        "\n",
        "print('Data downloaded and read into a dataframe!')"
      ]
    },
    {
      "cell_type": "code",
      "execution_count": null,
      "metadata": {
        "trusted": true
      },
      "outputs": [],
      "source": [
        "# Preview the first 5 lines of the loaded data \n",
        "airline_data.head()"
      ]
    },
    {
      "cell_type": "code",
      "execution_count": null,
      "metadata": {
        "trusted": true
      },
      "outputs": [],
      "source": [
        "# Shape of the data\n",
        "airline_data.shape"
      ]
    },
    {
      "cell_type": "code",
      "execution_count": null,
      "metadata": {
        "trusted": true
      },
      "outputs": [],
      "source": [
        "# Randomly sample 500 data points. Setting the random state to be 42 so that we get same result.\n",
        "data = airline_data.sample(n=500, random_state=42)"
      ]
    },
    {
      "cell_type": "code",
      "execution_count": null,
      "metadata": {
        "trusted": true
      },
      "outputs": [],
      "source": [
        "# Get the shape of the trimmed data\n",
        "data.shape"
      ]
    },
    {
      "cell_type": "markdown",
      "metadata": {},
      "source": [
        "It would be interesting if we visually  capture details such as\n",
        "\n",
        "* Departure time changes with respect to airport distance.\n",
        "\n",
        "* Average Flight Delay time over the months\n",
        "\n",
        "* Comparing number of flights in each destination state\n",
        "\n",
        "* Number of  flights per reporting airline\n",
        "\n",
        "* Distrubution of arrival delay\n",
        "\n",
        "* Proportion of distance group by month (month indicated by numbers)\n",
        "\n",
        "* Hierarchical view in othe order of month and destination state holding value of number of flights\n"
      ]
    },
    {
      "cell_type": "markdown",
      "metadata": {},
      "source": [
        "# plotly.graph_objects¶\n"
      ]
    },
    {
      "cell_type": "markdown",
      "metadata": {},
      "source": [
        "## 1. Scatter Plot\n"
      ]
    },
    {
      "cell_type": "markdown",
      "metadata": {},
      "source": [
        "Let us use a scatter plot to represent departure time changes with respect to airport distance\n",
        "\n",
        "This plot should contain the following\n",
        "\n",
        "* Title as **Distance vs Departure Time**.\n",
        "* x-axis label should be **Distance**\n",
        "* y-axis label should be **DeptTime**\n",
        "* **Distance** column data from the flight delay dataset should be considered in x-axis\n",
        "* **DepTime** column data from the flight delay dataset should be considered in y-axis\n",
        "* Scatter plot markers should be of red color\n"
      ]
    },
    {
      "cell_type": "code",
      "execution_count": null,
      "metadata": {
        "trusted": true
      },
      "outputs": [],
      "source": [
        "## Write your code here"
      ]
    },
    {
      "cell_type": "markdown",
      "metadata": {},
      "source": [
        "Double-click **here** for hint.\n",
        "<!-- \n",
        "***Use go.scatter() method*** and mode as markers\n",
        "-->\n"
      ]
    },
    {
      "cell_type": "markdown",
      "metadata": {},
      "source": [
        "Double-click **here** for the solution.\n",
        "\n",
        "<!-- The answer is below:\n",
        "\n",
        "    \n",
        "##First we will create an empty figure ising go.Figure()\n",
        "fig=go.Figure()\n",
        "#Next we will create a scatter plot by using the add_trace function and use the go.scatter() function within it\n",
        "# In go.Scatter we define the x-axis data,y-axis data and define the mode as markers with color of the marker as red\n",
        "fig.add_trace(go.Scatter(x=data['Distance'], y=data['DepTime'], mode='markers', marker=dict(color='red')))\n",
        "fig.update_layout(title='Distance vs Departure Time', xaxis_title='Distance', yaxis_title='DepTime')\n",
        "# Display the figure\n",
        "fig.show()\n",
        "-->\n"
      ]
    },
    {
      "cell_type": "markdown",
      "metadata": {},
      "source": [
        "#### Inferences\n",
        "\n",
        "It can be inferred that there are more flights round the clock for shorter distances. However, for longer distance there are limited flights through the day.\n"
      ]
    },
    {
      "cell_type": "markdown",
      "metadata": {},
      "source": [
        "## 2. Line Plot\n"
      ]
    },
    {
      "cell_type": "markdown",
      "metadata": {},
      "source": [
        "Let us now use a line plot to extract average monthly arrival delay time and see how it changes over the year.\n",
        "\n",
        "  This plot should contain the following\n",
        "\n",
        "* Title as **Month vs Average Flight Delay Time**.\n",
        "* x-axis label should be **Month**\n",
        "* y-axis label should be **ArrDelay**\n",
        "* A new dataframe **line_data** should be created which consists of 2 columns average **arrival delay time per month** and **month** from the dataset\n",
        "* **Month** column data from the line_data dataframe should be considered in x-axis\n",
        "* **ArrDelay** column data from the ine_data dataframeshould be considered in y-axis\n",
        "* Plotted line in the line plot should be of green color\n"
      ]
    },
    {
      "cell_type": "code",
      "execution_count": null,
      "metadata": {
        "trusted": true
      },
      "outputs": [],
      "source": [
        "# Group the data by Month and compute average over arrival delay time.\n",
        "line_data = data.groupby('Month')['ArrDelay'].mean().reset_index()"
      ]
    },
    {
      "cell_type": "code",
      "execution_count": null,
      "metadata": {
        "trusted": true
      },
      "outputs": [],
      "source": [
        "# Display the data\n",
        "line_data"
      ]
    },
    {
      "cell_type": "code",
      "execution_count": null,
      "metadata": {
        "trusted": true
      },
      "outputs": [],
      "source": [
        "## Write your code here"
      ]
    },
    {
      "cell_type": "markdown",
      "metadata": {},
      "source": [
        "Double-click **here** for hint.\n",
        "<!--\n",
        "*   Hint: Scatter and line plot vary by updating mode parameter.\n",
        "-->\n"
      ]
    },
    {
      "cell_type": "markdown",
      "metadata": {},
      "source": [
        "Double-click **here** for the solution.\n",
        "\n",
        "<!-- The answer is below:\n",
        "\n",
        "    \n",
        "##First we will create an empty figure ising go.Figure()\n",
        "fig=go.Figure()\n",
        "##Next we will create a line plot by using the add_trace function and use the go.scatter() function within it\n",
        "# In go.Scatter we define the x-axis data,y-axis data and define the mode as lines with color of the marker as green\n",
        "fig.add_trace(go.Scatter(x=line_data['Month'], y=line_data['ArrDelay'], mode='lines', marker=dict(color='green')))\n",
        "# Create line plot here\n",
        "## Here we update these values under function attributes such as title,xaxis_title and yaxis_title\n",
        "fig.update_layout(title='Month vs Average Flight Delay Time', xaxis_title='Month', yaxis_title='ArrDelay')\n",
        "fig.show()\n",
        "-->\n"
      ]
    },
    {
      "cell_type": "markdown",
      "metadata": {},
      "source": [
        "#### Inferences\n",
        "\n",
        "It is found that in the month of June the average monthly delay time is the maximum\n"
      ]
    },
    {
      "cell_type": "markdown",
      "metadata": {},
      "source": [
        "# plotly.express¶\n"
      ]
    },
    {
      "cell_type": "markdown",
      "metadata": {},
      "source": [
        "## 3. Bar Chart\n"
      ]
    },
    {
      "cell_type": "markdown",
      "metadata": {},
      "source": [
        "\n",
        "Let us use a bar chart to extract number of flights from a specific airline that goes to a destination\n",
        "\n",
        "This plot should contain the following\n",
        "\n",
        "* Title as **Total number of flights to the destination state split by reporting air**.\n",
        "* x-axis label should be **DestState**\n",
        "* y-axis label should be **Flights**\n",
        "* Create a new dataframe called **bar_data**  which contains 2 columns **DestState** and **Flights**.Here **flights** indicate total number of flights in each combination.\n"
      ]
    },
    {
      "cell_type": "code",
      "execution_count": null,
      "metadata": {
        "trusted": true
      },
      "outputs": [],
      "source": [
        "# Group the data by destination state and reporting airline. Compute total number of flights in each combination\n",
        "bar_data = data.groupby('DestState')['Flights'].sum().reset_index()"
      ]
    },
    {
      "cell_type": "code",
      "execution_count": null,
      "metadata": {
        "trusted": true
      },
      "outputs": [],
      "source": [
        "# Display the data\n",
        "bar_data"
      ]
    },
    {
      "cell_type": "code",
      "execution_count": null,
      "metadata": {
        "trusted": true
      },
      "outputs": [],
      "source": [
        "## Write your code here"
      ]
    },
    {
      "cell_type": "markdown",
      "metadata": {},
      "source": [
        "Double-click **here** for hint.\n",
        "<!--\n",
        "***Use the px.bar() function***\n",
        "-->\n"
      ]
    },
    {
      "cell_type": "markdown",
      "metadata": {},
      "source": [
        "Double-click **here** for the solution.\n",
        "\n",
        "<!-- The answer is below:\n",
        "\n",
        "    \n",
        "# Use plotly express bar chart function px.bar. Provide input data, x and y axis variable, and title of the chart.\n",
        "# This will give total number of flights to the destination state.\n",
        "fig = px.bar(bar_data, x=\"DestState\", y=\"Flights\", title='Total number of flights to the destination state split by reporting airline') \n",
        "fig.show()\n",
        "-->\n"
      ]
    },
    {
      "cell_type": "markdown",
      "metadata": {},
      "source": [
        "#### Inferences\n",
        "\n",
        "It is found that maximum flights are to destination state **CA** which is around 68 and there is only 1 flight to destination state **VT**\n"
      ]
    },
    {
      "cell_type": "markdown",
      "metadata": {},
      "source": [
        "## 4. Histogram\n"
      ]
    },
    {
      "cell_type": "markdown",
      "metadata": {},
      "source": [
        "\n",
        "Let us represent the distribution of arrival delay using a histogram\n",
        "\n",
        "This plot should contain the following\n",
        "\n",
        "* Title as **Total number of flights to the destination state split by reporting air**.\n",
        "* x-axis label should be **ArrayDelay**\n",
        "* y-axis will show the count of arrival delay\n"
      ]
    },
    {
      "cell_type": "code",
      "execution_count": null,
      "metadata": {
        "trusted": true
      },
      "outputs": [],
      "source": [
        "# Set missing values to 0\n",
        "data['ArrDelay'] = data['ArrDelay'].fillna(0)"
      ]
    },
    {
      "cell_type": "code",
      "execution_count": null,
      "metadata": {
        "trusted": true
      },
      "outputs": [],
      "source": [
        "## Write your code here"
      ]
    },
    {
      "cell_type": "markdown",
      "metadata": {},
      "source": [
        "Double-click **here** for hint.\n",
        "<!--\n",
        "***Use the px.histogram() function***\n",
        "-->\n"
      ]
    },
    {
      "cell_type": "markdown",
      "metadata": {},
      "source": [
        "Double-click **here** for the solution.\n",
        "\n",
        "<!-- The answer is below:\n",
        "## Use plotly express histogram chart function px.histogram.Provide input data x to the histogram\n",
        "fig = px.histogram(data, x=\"ArrDelay\",title=\"Total number of flights to the destination state split by reporting air.\")\n",
        "fig.show()\n",
        "    \n",
        "\n",
        "-->\n"
      ]
    },
    {
      "cell_type": "markdown",
      "metadata": {},
      "source": [
        "#### Inferences\n",
        "\n",
        "It is found that there is only max of 5 flights with an arrival delay of 50-54 minutes and around 17 flights with an arrival delay of 20-25 minutes\n"
      ]
    },
    {
      "cell_type": "markdown",
      "metadata": {},
      "source": [
        "## 5. Bubble Chart\n"
      ]
    },
    {
      "cell_type": "markdown",
      "metadata": {},
      "source": [
        "Let  use a bubble plot to represent number of flights as per reporting airline\n",
        "\n",
        "This plot should contain the following\n",
        "\n",
        "* Title as **Reporting Airline vs Number of Flights**.\n",
        "* x-axis label should be **Reporting_Airline**\n",
        "* y-axis label should be **Flights**\n",
        "* size of the bubble should be **Flights** indicating number of flights\n",
        "* Name of the hover tooltip to `reporting_airline` using `hover_name` parameter.\n"
      ]
    },
    {
      "cell_type": "code",
      "execution_count": null,
      "metadata": {
        "trusted": true
      },
      "outputs": [],
      "source": [
        "# Group the data by reporting airline and get number of flights\n",
        "bub_data = data.groupby('Reporting_Airline')['Flights'].sum().reset_index()"
      ]
    },
    {
      "cell_type": "code",
      "execution_count": null,
      "metadata": {
        "trusted": true
      },
      "outputs": [],
      "source": [
        "bub_data"
      ]
    },
    {
      "cell_type": "code",
      "execution_count": null,
      "metadata": {
        "trusted": true
      },
      "outputs": [],
      "source": [
        "## Write your code here\n"
      ]
    },
    {
      "cell_type": "markdown",
      "metadata": {},
      "source": [
        "Double-click **here** for hint.\n",
        "<!--\n",
        "***Use the px.scatter() function and define the size attribute values apart from x and y attribute values***\n",
        "-->\n"
      ]
    },
    {
      "cell_type": "markdown",
      "metadata": {},
      "source": [
        "Double-click **here** for the solution.\n",
        "\n",
        "<!-- The answer is below:\n",
        "## Bubble chart using px.scatter function with x ,y and size variables defined.Title defined as Reporting Airline vs Number of Flights\n",
        "fig = px.scatter(bub_data, x=\"Reporting_Airline\", y=\"Flights\", size=\"Flights\",\n",
        "                 hover_name=\"Reporting_Airline\", title='Reporting Airline vs Number of Flights', size_max=60)\n",
        "fig.show()\n",
        "    \n",
        "\n",
        "-->\n"
      ]
    },
    {
      "cell_type": "markdown",
      "metadata": {},
      "source": [
        "#### Inferences\n",
        "\n",
        "It is found that the reporting airline **WN** has the highest number of flights which is around 86\n"
      ]
    },
    {
      "cell_type": "markdown",
      "metadata": {},
      "source": [
        "## 6. Pie Chart\n"
      ]
    },
    {
      "cell_type": "markdown",
      "metadata": {},
      "source": [
        "Let us represent the proportion of Flights by Distance Group (Flights indicated by numbers)\n",
        "\n",
        "This plot should contain the following\n",
        "\n",
        "* Title as **Flight propotion by Distance Group**.\n",
        "* values should be **Flights**\n",
        "* names should be **DistanceGroup**\n"
      ]
    },
    {
      "cell_type": "code",
      "execution_count": null,
      "metadata": {
        "trusted": true
      },
      "outputs": [],
      "source": [
        "## Write your code here"
      ]
    },
    {
      "cell_type": "markdown",
      "metadata": {},
      "source": [
        "Double-click **here** for hint.\n",
        "<!--\n",
        "***Use the px.pie() function***\n",
        "-->\n"
      ]
    },
    {
      "cell_type": "markdown",
      "metadata": {},
      "source": [
        "Double-click **here** for the solution.\n",
        "\n",
        "<!-- The answer is below:\n",
        "# Use px.pie function to create the chart. Input dataset. \n",
        "# Values parameter will set values associated to the sector. 'Flights' feature is passed to it.\n",
        "# labels for the sector are passed to the `names` parameter.\n",
        "fig = px.pie(data, values='Flights', names='DistanceGroup', title='Flight propotion by Distance Group')\n",
        "fig.show()\n",
        "    \n",
        "\n",
        "-->\n"
      ]
    },
    {
      "cell_type": "markdown",
      "metadata": {},
      "source": [
        "#### Inferences\n",
        "\n",
        "It is found that Distance group 2 has the highest flight proportion.\n"
      ]
    },
    {
      "cell_type": "markdown",
      "metadata": {},
      "source": [
        "## 7. SunBurst Charts\n"
      ]
    },
    {
      "cell_type": "markdown",
      "metadata": {},
      "source": [
        "Let us represent the hierarchical view in othe order of month and destination state holding value of number of flights\n",
        "\n",
        "This plot should contain the following\n",
        "\n",
        "*  Define hierarchy of sectors from root to leaves in `path` parameter. Here, we go from `Month` to `DestStateName` feature.\n",
        "*   Set sector values in `values` parameter. Here, we can pass in `Flights` feature.\n",
        "*   Show the figure.\n",
        "*   Title as **Flight Distribution Hierarchy**\n"
      ]
    },
    {
      "cell_type": "code",
      "execution_count": null,
      "metadata": {
        "trusted": true
      },
      "outputs": [],
      "source": [
        "## Write your code here"
      ]
    },
    {
      "cell_type": "markdown",
      "metadata": {},
      "source": [
        "Double-click **here** for hint.\n",
        "<!--\n",
        "***Use the px.sunburst() function***\n",
        "-->\n"
      ]
    },
    {
      "cell_type": "markdown",
      "metadata": {},
      "source": [
        "Double-click **here** for the solution.\n",
        "\n",
        "<!-- The answer is below:\n",
        "## Define path as Month and DestStateName and values as Flights.\n",
        "fig = px.sunburst(data, path=['Month', 'DestStateName'], values='Flights',title='Flight Distribution Hierarchy')\n",
        "fig.show()\n",
        "    \n",
        "\n",
        "-->\n"
      ]
    },
    {
      "cell_type": "markdown",
      "metadata": {},
      "source": [
        "#### Inferences\n",
        "\n",
        "Here the  **Month** numbers present in the innermost concentric circle is the root and for each month we will check the **number of flights** for the different **destination states** under it.\n"
      ]
    },
    {
      "cell_type": "markdown",
      "metadata": {},
      "source": [
        "## Summary\n",
        "\n",
        "Congratulations for completing your lab.\n",
        "\n",
        "In this lab, you have learnt how to use `plotly.graph_objects` and `plotly.express` for creating plots and charts.\n"
      ]
    },
    {
      "cell_type": "markdown",
      "metadata": {},
      "source": [
        "## Author(s)\n",
        "[Saishruthi Swaminathan](https://www.linkedin.com/in/saishruthi-swaminathan/?utm_medium=Exinfluencer&utm_source=Exinfluencer&utm_content=000026UJ&utm_term=10006555&utm_id=NA-SkillsNetwork-Channel-SkillsNetworkCoursesIBMDeveloperSkillsNetworkDV0101ENSkillsNetwork970-2022-01-01)\n",
        "\n",
        "Lakshmi Holla\n"
      ]
    },
    {
      "cell_type": "markdown",
      "metadata": {},
      "source": [
        "## Other Contributor(s)\n",
        "\n",
        "Lavanya T S\n"
      ]
    },
    {
      "cell_type": "markdown",
      "metadata": {},
      "source": [
        "## Changelog\n",
        "\n",
        "| Date       | Version | Changed by | Change Description                   |\n",
        "| ---------- | ------- | ---------- | ------------------------------------ |\n",
        "| 12-18-2020 | 1.0     | Nayef      | Added dataset link and upload to Git |\n",
        "| 07-02-2023 | 1.1     | Lakshmi Holla     | Updated lab |\n"
      ]
    },
    {
      "cell_type": "markdown",
      "metadata": {},
      "source": [
        "## <h3 align=\"center\"> © IBM Corporation 2023. All rights reserved. <h3/>\n"
      ]
    },
    {
      "cell_type": "code",
      "execution_count": 2,
      "metadata": {},
      "outputs": [
        {
          "ename": "SyntaxError",
          "evalue": "closing parenthesis ']' does not match opening parenthesis '(' (2482837857.py, line 133)",
          "output_type": "error",
          "traceback": [
            "\u001b[1;36m  Cell \u001b[1;32mIn[2], line 133\u001b[1;36m\u001b[0m\n\u001b[1;33m    html.Div(className='.........', children=[html.Div(....,html.Div(....)],style={...}),\u001b[0m\n\u001b[1;37m                                                                          ^\u001b[0m\n\u001b[1;31mSyntaxError\u001b[0m\u001b[1;31m:\u001b[0m closing parenthesis ']' does not match opening parenthesis '('\n"
          ]
        }
      ],
      "source": [
        "#!/usr/bin/env python\n",
        "# coding: utf-8\n",
        "\n",
        "# In[ ]:\n",
        "\n",
        "\n",
        "import dash\n",
        "from dash import dcc\n",
        "from dash import html\n",
        "from dash.dependencies import Input, Output\n",
        "import pandas as pd\n",
        "import plotly.graph_objs as go\n",
        "import plotly.express as px\n",
        "\n",
        "# Load the data using pandas\n",
        "data = pd.read_csv('https://cf-courses-data.s3.us.cloud-object-storage.appdomain.cloud/IBMDeveloperSkillsNetwork-DV0101EN-SkillsNetwork/Data%20Files/historical_automobile_sales.csv')\n",
        "\n",
        "# Initialize the Dash app\n",
        "app = dash.Dash(__name__)\n",
        "\n",
        "# Set the title of the dashboard\n",
        "#app.title = \"Automobile Statistics Dashboard\"\n",
        "\n",
        "#---------------------------------------------------------------------------------\n",
        "# Create the dropdown menu options\n",
        "dropdown_options = [\n",
        "    {'label': '...........', 'value': 'Yearly Statistics'},\n",
        "    {'label': 'Recession Period Statistics', 'value': '.........'}\n",
        "]\n",
        "# List of years \n",
        "year_list = [i for i in range(1980, 2024, 1)]\n",
        "#---------------------------------------------------------------------------------------\n",
        "# Create the layout of the app\n",
        "app.layout = html.Div([\n",
        "    #TASK 2.1 Add title to the dashboard\n",
        "    html.H1(\"...............\"),#May include style for title\n",
        "    html.Div([#TASK 2.2: Add two dropdown menus\n",
        "        html.Label(\"Select Statistics:\"),\n",
        "        dcc.Dropdown(\n",
        "            id='...........',\n",
        "            options=...................,\n",
        "            value='.................',\n",
        "            placeholder='.................'\n",
        "        )\n",
        "    ]),\n",
        "    html.Div(dcc.Dropdown(\n",
        "            id='select-year',\n",
        "            options=[{'label': i, 'value': i} for i in year_list],\n",
        "            value='...................'\n",
        "        )),\n",
        "    html.Div([#TASK 2.3: Add a division for output display\n",
        "    html.Div(id='..........', className='..........', style={.........}),])\n",
        "])\n",
        "#TASK 2.4: Creating Callbacks\n",
        "# Define the callback function to update the input container based on the selected statistics\n",
        "@app.callback(\n",
        "    Output(component_id='......', component_property='....'),\n",
        "    Input(component_id='..........',component_property='....'))\n",
        "\n",
        "def update_input_container(.......):\n",
        "    if selected_statistics =='........': \n",
        "        return False\n",
        "    else: \n",
        "        return ......\n",
        "\n",
        "#Callback for plotting\n",
        "# Define the callback function to update the input container based on the selected statistics\n",
        "@app.callback(\n",
        "    Output(component_id='...', component_property='...'),\n",
        "    [Input(component_id='...', component_property='...'), Input(component_id='...', component_property='...')])\n",
        "\n",
        "\n",
        "def update_output_container(....., .....):\n",
        "    if ..... == 'Recession Period Statistics':\n",
        "        # Filter the data for recession periods\n",
        "        recession_data = data[data['Recession'] == 1]\n",
        "        \n",
        "#TASK 2.5: Create and display graphs for Recession Report Statistics\n",
        "\n",
        "#Plot 1 Automobile sales fluctuate over Recession Period (year wise)\n",
        "        # use groupby to create relevant data for plotting\n",
        "        yearly_rec=recession_data.groupby('...')['...'].mean().reset_index()\n",
        "        R_chart1 = dcc.Graph(\n",
        "            figure=px......(....., \n",
        "                x='....',\n",
        "                y='......',\n",
        "                title=\"Average Automobile Sales fluctuation over Recession Period\"))\n",
        "\n",
        "#Plot 2 Calculate the average number of vehicles sold by vehicle type       \n",
        "        # use groupby to create relevant data for plotting\n",
        "        average_sales = ...............mean().reset_index()                           \n",
        "        R_chart2  = dcc.Graph(figure=px....................\n",
        "        \n",
        "# Plot 3 Pie chart for total expenditure share by vehicle type during recessions\n",
        "        # use groupby to create relevant data for plotting\n",
        "        exp_rec= ....................\n",
        "        R_chart3 = .............\n",
        "\n",
        "# Plot 4 bar chart for the effect of unemployment rate on vehicle type and sales\n",
        "        ................\n",
        "        ...................\n",
        "\n",
        "\n",
        "        return [\n",
        "            html.Div(className='..........', children=[html.Div(children=R_chart1),html.Div(children=.....)],style={.....}),\n",
        "            html.Div(className='chart-item', children=[html.Div(children=...........),html.Div(.............)],style={....})\n",
        "            ]\n",
        "\n",
        "# TASK 2.6: Create and display graphs for Yearly Report Statistics\n",
        " # Yearly Statistic Report Plots                             \n",
        "    elif (input_year and selected_statistics=='...............') :\n",
        "        yearly_data = data[data['Year'] == ......]\n",
        "                              \n",
        "#TASK 2.5: Creating Graphs Yearly data\n",
        "                              \n",
        "#plot 1 Yearly Automobile sales using line chart for the whole period.\n",
        "        yas= data.groupby('Year')['Automobile_Sales'].mean().reset_index()\n",
        "        Y_chart1 = dcc.Graph(figure=px.line(.................))\n",
        "            \n",
        "# Plot 2 Total Monthly Automobile sales using line chart.\n",
        "        Y_chart2 = dcc.Graph(................)\n",
        "\n",
        "            # Plot bar chart for average number of vehicles sold during the given year\n",
        "        avr_vdata=yearly_data.groupby........................\n",
        "        Y_chart3 = dcc.Graph( figure.................,title='Average Vehicles Sold by Vehicle Type in the year {}'.format(input_year)))\n",
        "\n",
        "            # Total Advertisement Expenditure for each vehicle using pie chart\n",
        "        exp_data=yearly_data.groupby(..................\n",
        "        Y_chart4 = dcc.Graph(...............)\n",
        "\n",
        "#TASK 2.6: Returning the graphs for displaying Yearly data\n",
        "        return [\n",
        "                html.Div(className='.........', children=[html.Div(....,html.Div(....)],style={...}),\n",
        "                html.Div(className='.........', children=[html.Div(....),html.Div(....)],style={...})\n",
        "                ]\n",
        "        \n",
        "    else:\n",
        "        return None\n",
        "\n",
        "# Run the Dash app\n",
        "if __name__ == '__main__':\n",
        "    app.run_server(debug=True)\n",
        "\n"
      ]
    },
    {
      "cell_type": "code",
      "execution_count": 8,
      "metadata": {},
      "outputs": [
        {
          "data": {
            "text/plain": [
              "Index(['Date', 'Year', 'Month', 'Recession', 'Consumer_Confidence',\n",
              "       'Seasonality_Weight', 'Price', 'Advertising_Expenditure', 'Competition',\n",
              "       'GDP', 'Growth_Rate', 'unemployment_rate', 'Automobile_Sales',\n",
              "       'Vehicle_Type', 'City'],\n",
              "      dtype='object')"
            ]
          },
          "execution_count": 8,
          "metadata": {},
          "output_type": "execute_result"
        }
      ],
      "source": [
        "import pandas as pd\n",
        "data = pd.read_csv('https://cf-courses-data.s3.us.cloud-object-storage.appdomain.cloud/IBMDeveloperSkillsNetwork-DV0101EN-SkillsNetwork/Data%20Files/historical_automobile_sales.csv')\n",
        "\n",
        "data.columns"
      ]
    },
    {
      "cell_type": "code",
      "execution_count": 9,
      "metadata": {},
      "outputs": [
        {
          "data": {
            "text/html": [
              "<div>\n",
              "<style scoped>\n",
              "    .dataframe tbody tr th:only-of-type {\n",
              "        vertical-align: middle;\n",
              "    }\n",
              "\n",
              "    .dataframe tbody tr th {\n",
              "        vertical-align: top;\n",
              "    }\n",
              "\n",
              "    .dataframe thead th {\n",
              "        text-align: right;\n",
              "    }\n",
              "</style>\n",
              "<table border=\"1\" class=\"dataframe\">\n",
              "  <thead>\n",
              "    <tr style=\"text-align: right;\">\n",
              "      <th></th>\n",
              "      <th>Date</th>\n",
              "      <th>Year</th>\n",
              "      <th>Month</th>\n",
              "      <th>Recession</th>\n",
              "      <th>Consumer_Confidence</th>\n",
              "      <th>Seasonality_Weight</th>\n",
              "      <th>Price</th>\n",
              "      <th>Advertising_Expenditure</th>\n",
              "      <th>Competition</th>\n",
              "      <th>GDP</th>\n",
              "      <th>Growth_Rate</th>\n",
              "      <th>unemployment_rate</th>\n",
              "      <th>Automobile_Sales</th>\n",
              "      <th>Vehicle_Type</th>\n",
              "      <th>City</th>\n",
              "    </tr>\n",
              "  </thead>\n",
              "  <tbody>\n",
              "    <tr>\n",
              "      <th>0</th>\n",
              "      <td>1/31/1980</td>\n",
              "      <td>1980</td>\n",
              "      <td>Jan</td>\n",
              "      <td>1</td>\n",
              "      <td>108.24</td>\n",
              "      <td>0.50</td>\n",
              "      <td>27483.571</td>\n",
              "      <td>1558</td>\n",
              "      <td>7</td>\n",
              "      <td>60.223</td>\n",
              "      <td>0.010000</td>\n",
              "      <td>5.4</td>\n",
              "      <td>456.0</td>\n",
              "      <td>Supperminicar</td>\n",
              "      <td>Georgia</td>\n",
              "    </tr>\n",
              "    <tr>\n",
              "      <th>1</th>\n",
              "      <td>2/29/1980</td>\n",
              "      <td>1980</td>\n",
              "      <td>Feb</td>\n",
              "      <td>1</td>\n",
              "      <td>98.75</td>\n",
              "      <td>0.75</td>\n",
              "      <td>24308.678</td>\n",
              "      <td>3048</td>\n",
              "      <td>4</td>\n",
              "      <td>45.986</td>\n",
              "      <td>-0.309594</td>\n",
              "      <td>4.8</td>\n",
              "      <td>555.9</td>\n",
              "      <td>Supperminicar</td>\n",
              "      <td>New York</td>\n",
              "    </tr>\n",
              "    <tr>\n",
              "      <th>2</th>\n",
              "      <td>3/31/1980</td>\n",
              "      <td>1980</td>\n",
              "      <td>Mar</td>\n",
              "      <td>1</td>\n",
              "      <td>107.48</td>\n",
              "      <td>0.20</td>\n",
              "      <td>28238.443</td>\n",
              "      <td>3137</td>\n",
              "      <td>3</td>\n",
              "      <td>35.141</td>\n",
              "      <td>-0.308614</td>\n",
              "      <td>3.4</td>\n",
              "      <td>620.0</td>\n",
              "      <td>Mediumfamilycar</td>\n",
              "      <td>New York</td>\n",
              "    </tr>\n",
              "    <tr>\n",
              "      <th>3</th>\n",
              "      <td>4/30/1980</td>\n",
              "      <td>1980</td>\n",
              "      <td>Apr</td>\n",
              "      <td>1</td>\n",
              "      <td>115.01</td>\n",
              "      <td>1.00</td>\n",
              "      <td>32615.149</td>\n",
              "      <td>1653</td>\n",
              "      <td>7</td>\n",
              "      <td>45.673</td>\n",
              "      <td>0.230596</td>\n",
              "      <td>4.2</td>\n",
              "      <td>702.8</td>\n",
              "      <td>Supperminicar</td>\n",
              "      <td>Illinois</td>\n",
              "    </tr>\n",
              "    <tr>\n",
              "      <th>4</th>\n",
              "      <td>5/31/1980</td>\n",
              "      <td>1980</td>\n",
              "      <td>May</td>\n",
              "      <td>1</td>\n",
              "      <td>98.72</td>\n",
              "      <td>0.20</td>\n",
              "      <td>23829.233</td>\n",
              "      <td>1319</td>\n",
              "      <td>4</td>\n",
              "      <td>52.997</td>\n",
              "      <td>0.138197</td>\n",
              "      <td>5.3</td>\n",
              "      <td>770.4</td>\n",
              "      <td>Smallfamiliycar</td>\n",
              "      <td>California</td>\n",
              "    </tr>\n",
              "  </tbody>\n",
              "</table>\n",
              "</div>"
            ],
            "text/plain": [
              "        Date  Year Month  Recession  Consumer_Confidence  Seasonality_Weight  \\\n",
              "0  1/31/1980  1980   Jan          1               108.24                0.50   \n",
              "1  2/29/1980  1980   Feb          1                98.75                0.75   \n",
              "2  3/31/1980  1980   Mar          1               107.48                0.20   \n",
              "3  4/30/1980  1980   Apr          1               115.01                1.00   \n",
              "4  5/31/1980  1980   May          1                98.72                0.20   \n",
              "\n",
              "       Price  Advertising_Expenditure  Competition     GDP  Growth_Rate  \\\n",
              "0  27483.571                     1558            7  60.223     0.010000   \n",
              "1  24308.678                     3048            4  45.986    -0.309594   \n",
              "2  28238.443                     3137            3  35.141    -0.308614   \n",
              "3  32615.149                     1653            7  45.673     0.230596   \n",
              "4  23829.233                     1319            4  52.997     0.138197   \n",
              "\n",
              "   unemployment_rate  Automobile_Sales     Vehicle_Type        City  \n",
              "0                5.4             456.0    Supperminicar     Georgia  \n",
              "1                4.8             555.9    Supperminicar    New York  \n",
              "2                3.4             620.0  Mediumfamilycar    New York  \n",
              "3                4.2             702.8    Supperminicar    Illinois  \n",
              "4                5.3             770.4  Smallfamiliycar  California  "
            ]
          },
          "execution_count": 9,
          "metadata": {},
          "output_type": "execute_result"
        }
      ],
      "source": [
        "data.head()"
      ]
    },
    {
      "cell_type": "code",
      "execution_count": 16,
      "metadata": {},
      "outputs": [
        {
          "data": {
            "text/html": [
              "\n",
              "        <iframe\n",
              "            width=\"100%\"\n",
              "            height=\"650\"\n",
              "            src=\"http://127.0.0.1:8050/\"\n",
              "            frameborder=\"0\"\n",
              "            allowfullscreen\n",
              "            \n",
              "        ></iframe>\n",
              "        "
            ],
            "text/plain": [
              "<IPython.lib.display.IFrame at 0x25ce7af4710>"
            ]
          },
          "metadata": {},
          "output_type": "display_data"
        },
        {
          "name": "stderr",
          "output_type": "stream",
          "text": [
            "c:\\Users\\abume\\anaconda3\\Lib\\site-packages\\plotly\\express\\_core.py:2065: FutureWarning:\n",
            "\n",
            "When grouping with a length-1 list-like, you will need to pass a length-1 tuple to get_group in a future version of pandas. Pass `(name,)` instead of `name` to silence this warning.\n",
            "\n",
            "c:\\Users\\abume\\anaconda3\\Lib\\site-packages\\plotly\\express\\_core.py:2065: FutureWarning:\n",
            "\n",
            "When grouping with a length-1 list-like, you will need to pass a length-1 tuple to get_group in a future version of pandas. Pass `(name,)` instead of `name` to silence this warning.\n",
            "\n",
            "c:\\Users\\abume\\anaconda3\\Lib\\site-packages\\plotly\\express\\_core.py:2065: FutureWarning:\n",
            "\n",
            "When grouping with a length-1 list-like, you will need to pass a length-1 tuple to get_group in a future version of pandas. Pass `(name,)` instead of `name` to silence this warning.\n",
            "\n",
            "c:\\Users\\abume\\anaconda3\\Lib\\site-packages\\plotly\\express\\_core.py:2065: FutureWarning:\n",
            "\n",
            "When grouping with a length-1 list-like, you will need to pass a length-1 tuple to get_group in a future version of pandas. Pass `(name,)` instead of `name` to silence this warning.\n",
            "\n",
            "c:\\Users\\abume\\anaconda3\\Lib\\site-packages\\plotly\\express\\_core.py:2065: FutureWarning:\n",
            "\n",
            "When grouping with a length-1 list-like, you will need to pass a length-1 tuple to get_group in a future version of pandas. Pass `(name,)` instead of `name` to silence this warning.\n",
            "\n",
            "c:\\Users\\abume\\anaconda3\\Lib\\site-packages\\plotly\\express\\_core.py:2065: FutureWarning:\n",
            "\n",
            "When grouping with a length-1 list-like, you will need to pass a length-1 tuple to get_group in a future version of pandas. Pass `(name,)` instead of `name` to silence this warning.\n",
            "\n",
            "c:\\Users\\abume\\anaconda3\\Lib\\site-packages\\plotly\\express\\_core.py:2065: FutureWarning:\n",
            "\n",
            "When grouping with a length-1 list-like, you will need to pass a length-1 tuple to get_group in a future version of pandas. Pass `(name,)` instead of `name` to silence this warning.\n",
            "\n",
            "c:\\Users\\abume\\anaconda3\\Lib\\site-packages\\plotly\\express\\_core.py:2065: FutureWarning:\n",
            "\n",
            "When grouping with a length-1 list-like, you will need to pass a length-1 tuple to get_group in a future version of pandas. Pass `(name,)` instead of `name` to silence this warning.\n",
            "\n",
            "c:\\Users\\abume\\anaconda3\\Lib\\site-packages\\plotly\\express\\_core.py:2065: FutureWarning:\n",
            "\n",
            "When grouping with a length-1 list-like, you will need to pass a length-1 tuple to get_group in a future version of pandas. Pass `(name,)` instead of `name` to silence this warning.\n",
            "\n",
            "c:\\Users\\abume\\anaconda3\\Lib\\site-packages\\plotly\\express\\_core.py:2065: FutureWarning:\n",
            "\n",
            "When grouping with a length-1 list-like, you will need to pass a length-1 tuple to get_group in a future version of pandas. Pass `(name,)` instead of `name` to silence this warning.\n",
            "\n"
          ]
        }
      ],
      "source": [
        "import dash\n",
        "from dash import dcc, html\n",
        "from dash.dependencies import Input, Output\n",
        "import pandas as pd\n",
        "import plotly.express as px\n",
        "\n",
        "# Load the data using pandas\n",
        "data = pd.read_csv('https://cf-courses-data.s3.us.cloud-object-storage.appdomain.cloud/IBMDeveloperSkillsNetwork-DV0101EN-SkillsNetwork/Data%20Files/historical_automobile_sales.csv')\n",
        "\n",
        "# Initialize the Dash app\n",
        "app = dash.Dash(__name__)\n",
        "\n",
        "# Set the title of the dashboard\n",
        "app.title = \"Automobile Statistics Dashboard\"\n",
        "\n",
        "# Create the dropdown menu options\n",
        "dropdown_options = [\n",
        "    {'label': 'Yearly Statistics', 'value': 'Yearly Statistics'},\n",
        "    {'label': 'Recession Period Statistics', 'value': 'Recession Period Statistics'}\n",
        "]\n",
        "\n",
        "# List of years\n",
        "year_list = [str(i) for i in range(1980, 2024, 1)]\n",
        "\n",
        "# Create the layout of the app\n",
        "app.layout = html.Div([\n",
        "    html.H1(\"Automobile Statistics Dashboard\", style={'textAlign': 'center'}),\n",
        "    html.Div([\n",
        "        html.Label(\"Select Statistics:\"),\n",
        "        dcc.Dropdown(\n",
        "            id='select-statistics',\n",
        "            options=dropdown_options,\n",
        "            value='Yearly Statistics',\n",
        "            placeholder='Select Statistics'\n",
        "        )\n",
        "    ]),\n",
        "    html.Div([\n",
        "        dcc.Dropdown(\n",
        "            id='select-year',\n",
        "            options=[{'label': str(i), 'value': i} for i in year_list],\n",
        "            value='Select Year'\n",
        "        )\n",
        "    ]),\n",
        "    html.Div(id='output-container', className='output-container', style={'textAlign': 'center'})\n",
        "])\n",
        "\n",
        "# Callback for updating input container (omitted as not required)\n",
        "\n",
        "# Callback for plotting based on selected statistics and year\n",
        "@app.callback(\n",
        "    Output('output-container', 'children'),\n",
        "    [Input('select-statistics', 'value'), Input('select-year', 'value')]\n",
        ")\n",
        "def update_output_container(selected_statistics, input_year):\n",
        "    if selected_statistics == 'Recession Period Statistics':\n",
        "        # Filter data for recession periods\n",
        "        recession_data = data[data['Recession'] == 1]\n",
        "\n",
        "        # Recession Report Statistics\n",
        "        # Plot 1: Automobile sales fluctuation over Recession Period (year wise)\n",
        "        yearly_rec = recession_data.groupby('Year')['Automobile_Sales'].mean().reset_index()\n",
        "        R_chart1 = dcc.Graph(\n",
        "            figure=px.line(yearly_rec, x='Year', y='Automobile_Sales', title=\"Average Automobile Sales over Recession Periods\")\n",
        "        )\n",
        "\n",
        "        # Plot 2: Average number of vehicles sold by vehicle type\n",
        "        average_sales = recession_data.groupby('Vehicle_Type')['Automobile_Sales'].mean().reset_index()\n",
        "        R_chart2 = dcc.Graph(\n",
        "            figure=px.bar(average_sales, x='Vehicle_Type', y='Automobile_Sales', title=\"Average Vehicles Sold by Type During Recessions\")\n",
        "        )\n",
        "\n",
        "        # Plot 3: Pie chart for total expenditure share by vehicle type during recessions\n",
        "        exp_rec = recession_data.groupby('Vehicle_Type')['Advertising_Expenditure'].sum().reset_index()\n",
        "        R_chart3 = dcc.Graph(\n",
        "            figure=px.pie(exp_rec, values='Advertising_Expenditure', names='Vehicle_Type', title=\"Total Advertising Expenditure Share During Recessions\")\n",
        "        )\n",
        "\n",
        "        # Plot 4: Bar chart for unemployment rate effect on vehicle type and sales\n",
        "        # Replace with relevant logic based on data analysis\n",
        "        R_chart4 = dcc.Graph(\n",
        "            figure=px.scatter(recession_data, x='unemployment_rate', y='Automobile_Sales', color='Vehicle_Type', title=\"Effect of Unemployment Rate on Vehicle Sales\")\n",
        "        )\n",
        "\n",
        "        return [\n",
        "            html.Div(className='chart-row', children=[\n",
        "                html.Div(children=R_chart1),\n",
        "                html.Div(children=R_chart2),\n",
        "            ]),\n",
        "            html.Div(className='chart-row', children=[\n",
        "                html.Div(children=R_chart3),\n",
        "                html.Div(children=R_chart4),\n",
        "            ]),\n",
        "        ]\n",
        "\n",
        "    elif selected_statistics == 'Yearly Statistics':\n",
        "        # Yearly Statistics Report\n",
        "        if input_year != 'Select Year':\n",
        "            yearly_data = data[data['Year'] == int(input_year)]\n",
        "\n",
        "            # Plot 1: Yearly Automobile sales using line chart for the whole period\n",
        "            yearly_sales = data.groupby('Year')['Automobile_Sales'].mean().reset_index()\n",
        "            Y_chart1 = dcc.Graph(\n",
        "                figure=px.line(yearly_sales, x='Year', y='Automobile_Sales', title=\"Yearly Automobile Sales\")\n",
        "            )\n",
        "\n",
        "            # Plot 2: Total Monthly Automobile sales using line chart\n",
        "            monthly_sales = data.groupby(['Year', 'Month'])['Automobile_Sales'].sum().reset_index()\n",
        "            Y_chart2 = dcc.Graph(\n",
        "                figure=px.line(monthly_sales, x='Month', y='Automobile_Sales', color='Year', title=\"Total Monthly Automobile Sales\")\n",
        "            )\n",
        "\n",
        "            # Plot 3: Bar chart for average number of vehicles sold during the given year\n",
        "            average_sales_year = yearly_data.groupby('Vehicle_Type')['Automobile_Sales'].mean().reset_index()\n",
        "            Y_chart3 = dcc.Graph(\n",
        "                figure=px.bar(average_sales_year, x='Vehicle_Type', y='Automobile_Sales', title=f\"Average Vehicles Sold by Type in {input_year}\")\n",
        "            )\n",
        "\n",
        "            # Plot 4: Pie chart for total advertisement expenditure by vehicle type during the given year\n",
        "            exp_year = yearly_data.groupby('Vehicle_Type')['Advertising_Expenditure'].sum().reset_index()\n",
        "            Y_chart4 = dcc.Graph(\n",
        "                figure=px.pie(exp_year, values='Advertising_Expenditure', names='Vehicle_Type', title=f\"Total Advertising Expenditure in {input_year}\")\n",
        "            )\n",
        "\n",
        "            return [\n",
        "                html.Div(className='chart-row', children=[\n",
        "                    html.Div(children=Y_chart1),\n",
        "                    html.Div(children=Y_chart2),\n",
        "                ]),\n",
        "                html.Div(className='chart-row', children=[\n",
        "                    html.Div(children=Y_chart3),\n",
        "                    html.Div(children=Y_chart4),\n",
        "                ]),\n",
        "            ]\n",
        "        else:\n",
        "            return None\n",
        "    else:\n",
        "        return None\n",
        "\n",
        "# Run the Dash app\n",
        "if __name__ == '__main__':\n",
        "    app.run_server(debug=True)\n"
      ]
    },
    {
      "cell_type": "code",
      "execution_count": null,
      "metadata": {},
      "outputs": [],
      "source": []
    }
  ],
  "metadata": {
    "kernelspec": {
      "display_name": "base",
      "language": "python",
      "name": "python3"
    },
    "language_info": {
      "codemirror_mode": {
        "name": "ipython",
        "version": 3
      },
      "file_extension": ".py",
      "mimetype": "text/x-python",
      "name": "python",
      "nbconvert_exporter": "python",
      "pygments_lexer": "ipython3",
      "version": "3.11.5"
    }
  },
  "nbformat": 4,
  "nbformat_minor": 4
}
